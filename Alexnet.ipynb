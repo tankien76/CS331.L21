{
  "nbformat": 4,
  "nbformat_minor": 0,
  "metadata": {
    "colab": {
      "name": "Untitled11.ipynb",
      "provenance": [],
      "collapsed_sections": [],
      "authorship_tag": "ABX9TyOR7DMJxlCtJYR0CemZKTJS",
      "include_colab_link": true
    },
    "kernelspec": {
      "name": "python3",
      "display_name": "Python 3"
    },
    "language_info": {
      "name": "python"
    }
  },
  "cells": [
    {
      "cell_type": "markdown",
      "metadata": {
        "id": "view-in-github",
        "colab_type": "text"
      },
      "source": [
        "<a href=\"https://colab.research.google.com/github/tankien76/CS331.L21/blob/main/Alexnet.ipynb\" target=\"_parent\"><img src=\"https://colab.research.google.com/assets/colab-badge.svg\" alt=\"Open In Colab\"/></a>"
      ]
    },
    {
      "cell_type": "code",
      "metadata": {
        "colab": {
          "base_uri": "https://localhost:8080/"
        },
        "id": "Uda90QOstBGR",
        "outputId": "ae0aceec-fc8e-4d4b-cac4-9d499cceb355"
      },
      "source": [
        "# mount gg drive\n",
        "from google.colab import drive\n",
        "drive.mount('/content/drive')"
      ],
      "execution_count": 1,
      "outputs": [
        {
          "output_type": "stream",
          "text": [
            "Mounted at /content/drive\n"
          ],
          "name": "stdout"
        }
      ]
    },
    {
      "cell_type": "code",
      "metadata": {
        "id": "Cpb9tLHYtCyN"
      },
      "source": [
        "!unzip /content/drive/MyDrive/Data/Dataset.zip -d Dataset"
      ],
      "execution_count": null,
      "outputs": []
    },
    {
      "cell_type": "code",
      "metadata": {
        "id": "OtSDEpdEtENd"
      },
      "source": [
        "# import library\n",
        "from keras.models import Sequential\n",
        "from keras.layers import Dense, Activation, Dropout, Flatten, Conv2D, MaxPooling2D\n",
        "from keras.layers.normalization import BatchNormalization\n",
        "from tensorflow.keras.preprocessing.image import load_img\n",
        "from tensorflow.keras.preprocessing.image import img_to_array\n",
        "\n",
        "from imutils import paths\n",
        "import os\n",
        "\n",
        "import pandas as pd\n",
        "import numpy as np"
      ],
      "execution_count": 3,
      "outputs": []
    },
    {
      "cell_type": "code",
      "metadata": {
        "id": "MqKaiovWtGVF"
      },
      "source": [
        "# define Alexnet Architecture\n",
        "class Alexnet:\n",
        "  def __init__(self, cs = 1000,  bp = \"FC3\"):\n",
        "    self.classifer = cs\n",
        "    self.breakPoint = bp\n",
        "    self.model = None\n",
        "\n",
        "  # setting model\n",
        "  def define_model(self):\n",
        "    model = Sequential()\n",
        "    model.add(Conv2D(filters=96, kernel_size=(11,11), strides=(4,4), activation='relu', input_shape=(227,227,3)))\n",
        "    model.add(BatchNormalization())\n",
        "    model.add(MaxPooling2D(pool_size=(3,3), strides=(2,2)))\n",
        "    model.add(Conv2D(filters=256, kernel_size=(5,5), strides=(1,1), activation='relu', padding=\"same\"))\n",
        "    model.add(BatchNormalization())\n",
        "    model.add(MaxPooling2D(pool_size=(3,3), strides=(2,2)))\n",
        "    model.add(Conv2D(filters=384, kernel_size=(3,3), strides=(1,1), activation='relu', padding=\"same\"))\n",
        "    model.add(BatchNormalization())\n",
        "    model.add(Conv2D(filters=384, kernel_size=(3,3), strides=(1,1), activation='relu', padding=\"same\"))\n",
        "    model.add(BatchNormalization())\n",
        "    model.add(Conv2D(filters=256, kernel_size=(3,3), strides=(1,1), activation='relu', padding=\"same\"))\n",
        "    model.add(BatchNormalization())\n",
        "    model.add(MaxPooling2D(pool_size=(3,3), strides=(2,2)))\n",
        "    model.add(Flatten())\n",
        "    model.add(Dense(4096,activation='relu'))\n",
        "\n",
        "    # feature extraction in FC1\n",
        "    if (self.breakPoint == \"FC1\"):\n",
        "      self.model = model\n",
        "      return\n",
        "\n",
        "    model.add(Dropout(0.5))\n",
        "    model.add(Dense(4096,activation='relu'))\n",
        "\n",
        "    # feature extraction in FC2\n",
        "    if (self.breakPoint == \"FC2\"):\n",
        "      self.model = model\n",
        "      return\n",
        "    \n",
        "    model.add(Dropout(0.5))\n",
        "    model.add(Dense(self.classifer,activation='softmax'))\n",
        "    self.model = model\n",
        "\n",
        "  # predict \n",
        "  def predict(self, data):\n",
        "    return self.model.predict(data)\n",
        "\n",
        "  # get summary of model\n",
        "  def summary(self):\n",
        "    print(self.model.summary())\n",
        "\n",
        "  # get model\n",
        "  def get_model(self):\n",
        "    return self.model\n",
        "\n",
        "  # get/set break point\n",
        "  def get_breakPoint(self):\n",
        "    return self.breakPoint\n",
        "  def set_breakPoint(self, bp):\n",
        "    self.breakPoint = bp\n",
        "\n",
        "  # get/set class\n",
        "  def get_class(self):\n",
        "    return self.classifer\n",
        "  def set_class(self, c):\n",
        "    self.classifer = c"
      ],
      "execution_count": 4,
      "outputs": []
    },
    {
      "cell_type": "code",
      "metadata": {
        "id": "aYKGd2lqtHtl"
      },
      "source": [
        "# get feature from model\n",
        "def getFeature(imagePath, model):\n",
        "  # preprocess image\n",
        "  image = load_img(imagePath,target_size=(227,227))\n",
        "  img_array = img_to_array(image)\n",
        "  img_array = np.expand_dims(img_array, axis=0)\n",
        "\n",
        "  # get feature \n",
        "  feature = model.predict(img_array)\n",
        "  feature = feature.reshape(-1)\n",
        "\n",
        "  return feature"
      ],
      "execution_count": 5,
      "outputs": []
    },
    {
      "cell_type": "code",
      "metadata": {
        "id": "jC565H0ztI-9"
      },
      "source": [
        "# feature extraction\n",
        "def featureExtraction(imageDir, model):\n",
        "  imagePaths = list(paths.list_images(imageDir))\n",
        "\n",
        "  features = []\n",
        "  labels = []\n",
        "\n",
        "  for imagePath in imagePaths:\n",
        "    label = imagePath.split(os.path.sep)[-2]\n",
        "    features.append(getFeature(imagePath,model))\n",
        "\n",
        "    if (label == \"with_mask\"):\n",
        "      labels.append(1)\n",
        "      \n",
        "    else:\n",
        "      labels.append(0)\n",
        "\n",
        "  return np.array(features),np.array(labels)"
      ],
      "execution_count": 6,
      "outputs": []
    },
    {
      "cell_type": "code",
      "metadata": {
        "colab": {
          "base_uri": "https://localhost:8080/"
        },
        "id": "sk51sK8itKJt",
        "outputId": "e6110639-9bac-4c52-ce0a-457a9c79a020"
      },
      "source": [
        "# main function\n",
        "if __name__ ==  \"__main__\":\n",
        "  pathDir = '/content/Dataset'\n",
        "\n",
        "  # setting model\n",
        "  model = Alexnet(cs=2,bp=\"FC1\")\n",
        "  model.define_model()\n",
        "  model.summary()\n",
        "\n",
        "  # feature extraction\n",
        "  # FC1\n",
        "  features_1 , labels_1 = featureExtraction(pathDir, model)\n",
        "\n",
        "  # FC2\n",
        "  model.set_breakPoint(bp=\"FC2\")\n",
        "  model.define_model()\n",
        "  model.summary()\n",
        "  features_2, labels_2 = featureExtraction(pathDir, model)\n",
        "\n",
        "  # # show \n",
        "  # print(dt_feature)\n",
        "  # print(dataset.shape)\n",
        "\n",
        "  # print(dataset2)\n",
        "  # print(dataset.shape)"
      ],
      "execution_count": 7,
      "outputs": [
        {
          "output_type": "stream",
          "text": [
            "Model: \"sequential\"\n",
            "_________________________________________________________________\n",
            "Layer (type)                 Output Shape              Param #   \n",
            "=================================================================\n",
            "conv2d (Conv2D)              (None, 55, 55, 96)        34944     \n",
            "_________________________________________________________________\n",
            "batch_normalization (BatchNo (None, 55, 55, 96)        384       \n",
            "_________________________________________________________________\n",
            "max_pooling2d (MaxPooling2D) (None, 27, 27, 96)        0         \n",
            "_________________________________________________________________\n",
            "conv2d_1 (Conv2D)            (None, 27, 27, 256)       614656    \n",
            "_________________________________________________________________\n",
            "batch_normalization_1 (Batch (None, 27, 27, 256)       1024      \n",
            "_________________________________________________________________\n",
            "max_pooling2d_1 (MaxPooling2 (None, 13, 13, 256)       0         \n",
            "_________________________________________________________________\n",
            "conv2d_2 (Conv2D)            (None, 13, 13, 384)       885120    \n",
            "_________________________________________________________________\n",
            "batch_normalization_2 (Batch (None, 13, 13, 384)       1536      \n",
            "_________________________________________________________________\n",
            "conv2d_3 (Conv2D)            (None, 13, 13, 384)       1327488   \n",
            "_________________________________________________________________\n",
            "batch_normalization_3 (Batch (None, 13, 13, 384)       1536      \n",
            "_________________________________________________________________\n",
            "conv2d_4 (Conv2D)            (None, 13, 13, 256)       884992    \n",
            "_________________________________________________________________\n",
            "batch_normalization_4 (Batch (None, 13, 13, 256)       1024      \n",
            "_________________________________________________________________\n",
            "max_pooling2d_2 (MaxPooling2 (None, 6, 6, 256)         0         \n",
            "_________________________________________________________________\n",
            "flatten (Flatten)            (None, 9216)              0         \n",
            "_________________________________________________________________\n",
            "dense (Dense)                (None, 4096)              37752832  \n",
            "=================================================================\n",
            "Total params: 41,505,536\n",
            "Trainable params: 41,502,784\n",
            "Non-trainable params: 2,752\n",
            "_________________________________________________________________\n",
            "None\n",
            "Model: \"sequential_1\"\n",
            "_________________________________________________________________\n",
            "Layer (type)                 Output Shape              Param #   \n",
            "=================================================================\n",
            "conv2d_5 (Conv2D)            (None, 55, 55, 96)        34944     \n",
            "_________________________________________________________________\n",
            "batch_normalization_5 (Batch (None, 55, 55, 96)        384       \n",
            "_________________________________________________________________\n",
            "max_pooling2d_3 (MaxPooling2 (None, 27, 27, 96)        0         \n",
            "_________________________________________________________________\n",
            "conv2d_6 (Conv2D)            (None, 27, 27, 256)       614656    \n",
            "_________________________________________________________________\n",
            "batch_normalization_6 (Batch (None, 27, 27, 256)       1024      \n",
            "_________________________________________________________________\n",
            "max_pooling2d_4 (MaxPooling2 (None, 13, 13, 256)       0         \n",
            "_________________________________________________________________\n",
            "conv2d_7 (Conv2D)            (None, 13, 13, 384)       885120    \n",
            "_________________________________________________________________\n",
            "batch_normalization_7 (Batch (None, 13, 13, 384)       1536      \n",
            "_________________________________________________________________\n",
            "conv2d_8 (Conv2D)            (None, 13, 13, 384)       1327488   \n",
            "_________________________________________________________________\n",
            "batch_normalization_8 (Batch (None, 13, 13, 384)       1536      \n",
            "_________________________________________________________________\n",
            "conv2d_9 (Conv2D)            (None, 13, 13, 256)       884992    \n",
            "_________________________________________________________________\n",
            "batch_normalization_9 (Batch (None, 13, 13, 256)       1024      \n",
            "_________________________________________________________________\n",
            "max_pooling2d_5 (MaxPooling2 (None, 6, 6, 256)         0         \n",
            "_________________________________________________________________\n",
            "flatten_1 (Flatten)          (None, 9216)              0         \n",
            "_________________________________________________________________\n",
            "dense_1 (Dense)              (None, 4096)              37752832  \n",
            "_________________________________________________________________\n",
            "dropout (Dropout)            (None, 4096)              0         \n",
            "_________________________________________________________________\n",
            "dense_2 (Dense)              (None, 4096)              16781312  \n",
            "=================================================================\n",
            "Total params: 58,286,848\n",
            "Trainable params: 58,284,096\n",
            "Non-trainable params: 2,752\n",
            "_________________________________________________________________\n",
            "None\n"
          ],
          "name": "stdout"
        }
      ]
    },
    {
      "cell_type": "code",
      "metadata": {
        "id": "VkK66FYvtLZM"
      },
      "source": [
        "import numpy as np\n",
        "from sklearn.pipeline import make_pipeline\n",
        "from sklearn.preprocessing import StandardScaler\n",
        "from sklearn.svm import SVC\n",
        "from sklearn import metrics\n",
        "from sklearn.metrics import classification_report\n",
        "import matplotlib.pyplot as plt\n",
        "from sklearn.model_selection import train_test_split"
      ],
      "execution_count": 8,
      "outputs": []
    },
    {
      "cell_type": "code",
      "metadata": {
        "id": "_8E9la02tMlV"
      },
      "source": [
        "feature_FC1 = features_1\n",
        "feature_FC2 = features_2\n",
        "\n",
        "labels_FC1 = labels_1\n",
        "labels_FC2 = labels_2\n",
        "\n",
        "#print(feature_FC1)\n",
        "#print(feature_FC2)"
      ],
      "execution_count": 9,
      "outputs": []
    },
    {
      "cell_type": "code",
      "metadata": {
        "id": "SdFWw_-5tN8_"
      },
      "source": [
        "#Tiến hành chia dữ liệu để thực hiện quá trình ra 2 phần train và test.\n",
        "feature_FC1_train, feature_FC1_test, labels_FC1_train, labels_FC1_test = train_test_split(feature_FC1, labels_FC1, test_size = 0.2, random_state = 1)\n",
        "feature_FC2_train, feature_FC2_test, labels_FC2_train, labels_FC2_test = train_test_split(feature_FC2, labels_FC2, test_size = 0.2, random_state = 1)"
      ],
      "execution_count": 10,
      "outputs": []
    },
    {
      "cell_type": "code",
      "metadata": {
        "colab": {
          "base_uri": "https://localhost:8080/",
          "height": 510
        },
        "id": "1H1PEdWPtOnM",
        "outputId": "6f37689d-27fd-4705-8e5f-0448e8838f2c"
      },
      "source": [
        "# tạo một bộ phân loại.\n",
        "clf_FC1 = make_pipeline(StandardScaler(), SVC(gamma='auto'))\n",
        "\n",
        "clf_FC1.fit(feature_FC1_train, labels_FC1_train)\n",
        "predicted_FC1 = clf_FC1.predict(feature_FC1_test)\n",
        "print(classification_report(predicted_FC1, labels_FC1_test))\n",
        "\n",
        "# Confusion matrix\n",
        "conf_FC1 = metrics.plot_confusion_matrix(clf_FC1, feature_FC1_test, labels_FC1_test)\n",
        "conf_FC1.figure_.suptitle(\"Confusion Matrix\")\n",
        "print(f\"Confusion matrix:\\n{conf_FC1.confusion_matrix}\")\n",
        "plt.show()"
      ],
      "execution_count": 11,
      "outputs": [
        {
          "output_type": "stream",
          "text": [
            "              precision    recall  f1-score   support\n",
            "\n",
            "           0       0.82      0.78      0.80        18\n",
            "           1       0.83      0.86      0.84        22\n",
            "\n",
            "    accuracy                           0.82        40\n",
            "   macro avg       0.82      0.82      0.82        40\n",
            "weighted avg       0.82      0.82      0.82        40\n",
            "\n",
            "Confusion matrix:\n",
            "[[14  3]\n",
            " [ 4 19]]\n"
          ],
          "name": "stdout"
        },
        {
          "output_type": "display_data",
          "data": {
            "image/png": "[encoded data removed]",
            "text/plain": [
              "<Figure size 432x288 with 2 Axes>"
            ]
          },
          "metadata": {
            "tags": [],
            "needs_background": "light"
          }
        }
      ]
    },
    {
      "cell_type": "code",
      "metadata": {
        "colab": {
          "base_uri": "https://localhost:8080/",
          "height": 510
        },
        "id": "aBWywAc-tR69",
        "outputId": "36390747-1ce9-43e2-acfe-55583fba9ff0"
      },
      "source": [
        "# tạo một bộ phân loại.\n",
        "clf_FC2 = make_pipeline(StandardScaler(), SVC(gamma='auto'))\n",
        "\n",
        "clf_FC2.fit(feature_FC2_train, labels_FC2_train)\n",
        "predicted_FC2 = clf_FC2.predict(feature_FC2_test)\n",
        "print(classification_report(predicted_FC2, labels_FC2_test))\n",
        "\n",
        "# Confusion matrix\n",
        "conf_FC2 = metrics.plot_confusion_matrix(clf_FC2, feature_FC2_test, labels_FC2_test)\n",
        "conf_FC2.figure_.suptitle(\"Confusion Matrix\")\n",
        "print(f\"Confusion matrix:\\n{conf_FC2.confusion_matrix}\")\n",
        "plt.show()"
      ],
      "execution_count": 12,
      "outputs": [
        {
          "output_type": "stream",
          "text": [
            "              precision    recall  f1-score   support\n",
            "\n",
            "           0       0.94      0.64      0.76        25\n",
            "           1       0.61      0.93      0.74        15\n",
            "\n",
            "    accuracy                           0.75        40\n",
            "   macro avg       0.77      0.79      0.75        40\n",
            "weighted avg       0.82      0.75      0.75        40\n",
            "\n",
            "Confusion matrix:\n",
            "[[16  1]\n",
            " [ 9 14]]\n"
          ],
          "name": "stdout"
        },
        {
          "output_type": "display_data",
          "data": {
            "image/png": "[encoded data removed]",
            "text/plain": [
              "<Figure size 432x288 with 2 Axes>"
            ]
          },
          "metadata": {
            "tags": [],
            "needs_background": "light"
          }
        }
      ]
    }
  ]
}